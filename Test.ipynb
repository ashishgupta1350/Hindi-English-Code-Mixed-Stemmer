{
 "cells": [
  {
   "cell_type": "code",
   "execution_count": 1,
   "metadata": {},
   "outputs": [],
   "source": [
    "import stemmer"
   ]
  },
  {
   "cell_type": "code",
   "execution_count": 8,
   "metadata": {},
   "outputs": [
    {
     "name": "stdout",
     "output_type": "stream",
     "text": [
      "Function stemWord passed! \n"
     ]
    }
   ],
   "source": [
    "myStemmer = stemmer.Stemmer()\n",
    "output = myStemmer.stemWord(\"ladkaa\")\n",
    "if(output == \"ladka\"):\n",
    "    print(\"Function stemWord passed! \")\n"
   ]
  },
  {
   "cell_type": "code",
   "execution_count": 9,
   "metadata": {},
   "outputs": [
    {
     "name": "stdout",
     "output_type": "stream",
     "text": [
      "Function stemListOfWords passed!\n"
     ]
    }
   ],
   "source": [
    "output = myStemmer.stemListOfWords([\"ladkii\", \"ladkaaaa\", \"firaaangii\"])\n",
    "if(output[0]=='ladki' and output[1]=='ladka' and output[2]=='firangi'):\n",
    "    print(\"Function stemListOfWords passed!\")\n",
    "    "
   ]
  },
  {
   "cell_type": "code",
   "execution_count": 18,
   "metadata": {},
   "outputs": [
    {
     "name": "stdout",
     "output_type": "stream",
     "text": [
      "Function stem2dListOfWords passed!\n"
     ]
    }
   ],
   "source": [
    "output = myStemmer.stem2dListOfWords([[\"merii\",\"merraa\"], [\"terii\", \"terraaa\", \"aaajjjaa\"]])\n",
    "if(output[0][0]=='meri' and output[0][1]=='mera' and output[1][0]=='teri' and output[1][2]=='aja' ):\n",
    "    print(\"Function stem2dListOfWords passed!\")\n",
    "    "
   ]
  }
 ],
 "metadata": {
  "kernelspec": {
   "display_name": "Python 3",
   "language": "python",
   "name": "python3"
  },
  "language_info": {
   "codemirror_mode": {
    "name": "ipython",
    "version": 3
   },
   "file_extension": ".py",
   "mimetype": "text/x-python",
   "name": "python",
   "nbconvert_exporter": "python",
   "pygments_lexer": "ipython3",
   "version": "3.7.4"
  }
 },
 "nbformat": 4,
 "nbformat_minor": 2
}
